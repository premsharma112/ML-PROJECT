{
  "nbformat": 4,
  "nbformat_minor": 0,
  "metadata": {
    "colab": {
      "provenance": [],
      "authorship_tag": "ABX9TyO75XaB/kvfkTvOGKsofomE"
    },
    "kernelspec": {
      "name": "python3",
      "display_name": "Python 3"
    },
    "language_info": {
      "name": "python"
    }
  },
  "cells": [
    {
      "cell_type": "code",
      "execution_count": 1,
      "metadata": {
        "id": "VBFL0nHWVVh3"
      },
      "outputs": [],
      "source": [
        "import pandas as pd\n",
        "from sklearn.model_selection import train_test_split\n",
        "from sklearn.feature_extraction.text import TfidfVectorizer\n",
        "from sklearn.naive_bayes import MultinomialNB\n",
        "from sklearn.linear_model import LogisticRegression\n",
        "from sklearn.svm import SVC\n",
        "from sklearn.metrics import accuracy_score, classification_report\n",
        "from nltk.corpus import stopwords\n",
        "import string"
      ]
    },
    {
      "cell_type": "code",
      "source": [
        "# Download stopwords if you haven't already\n",
        "import nltk\n",
        "try:\n",
        "    stopwords.words('english')\n",
        "except LookupError:\n",
        "    nltk.download('stopwords')\n",
        "\n",
        "try:\n",
        "    string.punctuation\n",
        "except LookupError:\n",
        "    nltk.download('punkt')\n",
        "\n"
      ],
      "metadata": {
        "id": "N__JuUvvVbew"
      },
      "execution_count": 8,
      "outputs": []
    },
    {
      "cell_type": "code",
      "source": [
        "import pandas as pd\n",
        "\n",
        "# Updated and working dataset URL\n",
        "data_url = \"https://raw.githubusercontent.com/justmarkham/pycon-2016-tutorial/master/data/sms.tsv\"\n",
        "\n",
        "# Read the data (note: it's tab-separated)\n",
        "df = pd.read_csv(data_url, sep='\\t', header=0, names=[\"label\", \"text\"])\n",
        "\n",
        "# Convert label to numerical values (ham = 0, spam = 1)\n",
        "df['label'] = df['label'].map({'ham': 0, 'spam': 1})\n",
        "\n",
        "# Show the first few rows\n",
        "print(df.head())\n"
      ],
      "metadata": {
        "colab": {
          "base_uri": "https://localhost:8080/"
        },
        "id": "EiESbTzWWDsn",
        "outputId": "9453e0c2-9a25-41d3-db0e-0a1b9b79fafb"
      },
      "execution_count": 7,
      "outputs": [
        {
          "output_type": "stream",
          "name": "stdout",
          "text": [
            "   label                                               text\n",
            "0      0                      Ok lar... Joking wif u oni...\n",
            "1      1  Free entry in 2 a wkly comp to win FA Cup fina...\n",
            "2      0  U dun say so early hor... U c already then say...\n",
            "3      0  Nah I don't think he goes to usf, he lives aro...\n",
            "4      1  FreeMsg Hey there darling it's been 3 week's n...\n"
          ]
        }
      ]
    },
    {
      "cell_type": "code",
      "source": [
        "# 2. Data Exploration and Preprocessing\n",
        "print(\"First few rows of the dataset:\")\n",
        "print(df.head())\n",
        "print(\"\\nClass distribution:\")\n",
        "print(df['label'].value_counts())\n",
        "\n",
        "def process_text(text):\n",
        "    '''Removes punctuation and stopwords'''\n",
        "    nopunc = [char for char in text if char not in string.punctuation]\n",
        "    nopunc = ''.join(nopunc)\n",
        "    return [word for word in nopunc.lower().split() if word not in stopwords.words('english')]"
      ],
      "metadata": {
        "colab": {
          "base_uri": "https://localhost:8080/"
        },
        "id": "r9PgggcUWF6f",
        "outputId": "898f6e5a-ac26-4bcb-aceb-488b2b835c93"
      },
      "execution_count": 9,
      "outputs": [
        {
          "output_type": "stream",
          "name": "stdout",
          "text": [
            "First few rows of the dataset:\n",
            "   label                                               text\n",
            "0      0                      Ok lar... Joking wif u oni...\n",
            "1      1  Free entry in 2 a wkly comp to win FA Cup fina...\n",
            "2      0  U dun say so early hor... U c already then say...\n",
            "3      0  Nah I don't think he goes to usf, he lives aro...\n",
            "4      1  FreeMsg Hey there darling it's been 3 week's n...\n",
            "\n",
            "Class distribution:\n",
            "label\n",
            "0    4824\n",
            "1     747\n",
            "Name: count, dtype: int64\n"
          ]
        }
      ]
    },
    {
      "cell_type": "code",
      "source": [
        "# 3. Feature Extraction (TF-IDF)\n",
        "tfidf_vectorizer = TfidfVectorizer(analyzer=process_text)\n",
        "X = tfidf_vectorizer.fit_transform(df['text'])\n",
        "y = df['label']\n",
        "\n",
        "# Split data into training and testing sets\n",
        "X_train, X_test, y_train, y_test = train_test_split(X, y, test_size=0.2, random_state=42)\n"
      ],
      "metadata": {
        "id": "MamGW_aDYX8r"
      },
      "execution_count": 10,
      "outputs": []
    },
    {
      "cell_type": "code",
      "source": [
        "# 4. Model Selection and Training\n",
        "\n",
        "# a) Multinomial Naive Bayes\n",
        "mnb_model = MultinomialNB()\n",
        "mnb_model.fit(X_train, y_train)\n",
        "mnb_predictions = mnb_model.predict(X_test)\n",
        "print(\"\\n--- Multinomial Naive Bayes ---\")\n",
        "print(\"Accuracy:\", accuracy_score(y_test, mnb_predictions))\n",
        "print(classification_report(y_test, mnb_predictions))\n"
      ],
      "metadata": {
        "colab": {
          "base_uri": "https://localhost:8080/"
        },
        "id": "5_Jv98umYexZ",
        "outputId": "1ba69f24-88ba-4c0c-fe53-c9e45128077b"
      },
      "execution_count": 11,
      "outputs": [
        {
          "output_type": "stream",
          "name": "stdout",
          "text": [
            "\n",
            "--- Multinomial Naive Bayes ---\n",
            "Accuracy: 0.967713004484305\n",
            "              precision    recall  f1-score   support\n",
            "\n",
            "           0       0.96      1.00      0.98       955\n",
            "           1       1.00      0.78      0.87       160\n",
            "\n",
            "    accuracy                           0.97      1115\n",
            "   macro avg       0.98      0.89      0.93      1115\n",
            "weighted avg       0.97      0.97      0.97      1115\n",
            "\n"
          ]
        }
      ]
    },
    {
      "cell_type": "code",
      "source": [
        "# b) Logistic Regression\n",
        "lr_model = LogisticRegression()\n",
        "lr_model.fit(X_train, y_train)\n",
        "lr_predictions = lr_model.predict(X_test)\n",
        "print(\"\\n--- Logistic Regression ---\")\n",
        "print(\"Accuracy:\", accuracy_score(y_test, lr_predictions))\n",
        "print(classification_report(y_test, lr_predictions))"
      ],
      "metadata": {
        "colab": {
          "base_uri": "https://localhost:8080/"
        },
        "id": "S_7jrnxRYyOP",
        "outputId": "97e65838-81c7-4808-b581-3bc9ff8d449e"
      },
      "execution_count": 12,
      "outputs": [
        {
          "output_type": "stream",
          "name": "stdout",
          "text": [
            "\n",
            "--- Logistic Regression ---\n",
            "Accuracy: 0.9551569506726457\n",
            "              precision    recall  f1-score   support\n",
            "\n",
            "           0       0.95      1.00      0.97       955\n",
            "           1       0.97      0.71      0.82       160\n",
            "\n",
            "    accuracy                           0.96      1115\n",
            "   macro avg       0.96      0.85      0.90      1115\n",
            "weighted avg       0.96      0.96      0.95      1115\n",
            "\n"
          ]
        }
      ]
    },
    {
      "cell_type": "code",
      "source": [
        "# c) Support Vector Machine\n",
        "svm_model = SVC()\n",
        "svm_model.fit(X_train, y_train)\n",
        "svm_predictions = svm_model.predict(X_test)\n",
        "print(\"\\n--- Support Vector Machine ---\")\n",
        "print(\"Accuracy:\", accuracy_score(y_test, svm_predictions))\n",
        "print(classification_report(y_test, svm_predictions))\n"
      ],
      "metadata": {
        "colab": {
          "base_uri": "https://localhost:8080/"
        },
        "id": "CZTrhS9nY3S9",
        "outputId": "7c677699-95e1-4150-cadd-4f3003935a9e"
      },
      "execution_count": 13,
      "outputs": [
        {
          "output_type": "stream",
          "name": "stdout",
          "text": [
            "\n",
            "--- Support Vector Machine ---\n",
            "Accuracy: 0.9748878923766816\n",
            "              precision    recall  f1-score   support\n",
            "\n",
            "           0       0.97      1.00      0.99       955\n",
            "           1       0.99      0.84      0.91       160\n",
            "\n",
            "    accuracy                           0.97      1115\n",
            "   macro avg       0.98      0.92      0.95      1115\n",
            "weighted avg       0.98      0.97      0.97      1115\n",
            "\n"
          ]
        }
      ]
    },
    {
      "cell_type": "code",
      "source": [],
      "metadata": {
        "id": "mK6vMph6Y88o"
      },
      "execution_count": null,
      "outputs": []
    }
  ]
}